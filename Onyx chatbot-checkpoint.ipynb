{
 "cells": [
  {
   "cell_type": "code",
   "execution_count": 1,
   "id": "f0c1b275-8dfd-45ad-a30d-5857b926f618",
   "metadata": {},
   "outputs": [],
   "source": [
    "import nltk\n",
    "import random\n",
    "from nltk.chat.util import Chat, reflections\n",
    "import datetime\n",
    "\n",
    "# Define conversation patterns and responses\n",
    "conversations = [\n",
    "    [\n",
    "        r\"hi|hello|hey\",\n",
    "        [\"Hello!\", \"Hi there!\", \"Hey! How can I assist you today?\"]\n",
    "    ],\n",
    "    [\n",
    "        r\"what is your name?\",\n",
    "        [\"I'm a chatbot. You can call me Onyx.\"]\n",
    "    ],\n",
    "    [\n",
    "        r\"my name is (.*)\",\n",
    "        [\"Nice to meet you, {0}!\", \"Hello, {0}! How can I assist you today?\"]\n",
    "    ],\n",
    "    [\n",
    "        r\"how are you ?\",\n",
    "        [\"I'm just a computer program, so I don't have feelings, but I'm here to help! How can I assist you?\"]\n",
    "    ],\n",
    "    [\n",
    "        r\"what can you do for me?|what are your abilities?|how can you help me?\",\n",
    "        [\"I can provide information, answer questions, offer recommendations, and have a conversation with you. Just let me know what you need!\"]\n",
    "    ],\n",
    "    [\n",
    "        r\"tell me a joke|joke|funny\",\n",
    "        [\"Sure, here's a joke: Why don't scientists trust atoms? Because they make up everything!\"]\n",
    "    ],\n",
    "    [\n",
    "        r\"who created you|who made you|developer\",\n",
    "        [\"I was created by Raj Vardhan using NLP.\"]\n",
    "    ],\n",
    "    [\n",
    "        r\"weather in (.*)\",\n",
    "        [\"I can provide weather information, but I need to know the location. Please tell me the name of the city or place.\"]\n",
    "    ],\n",
    "    [\n",
    "        r\"(good|well|fine|great)\",\n",
    "        [\"That's wonderful to hear! How can I assist you further?\"]\n",
    "    ],\n",
    "    [\n",
    "        r\"(bad|not good|sad)\",\n",
    "        [\"I'm sorry to hear that. How can I make your day better?\"]\n",
    "    ],\n",
    "    [\n",
    "        r\"(.*) (love|like) you\",\n",
    "        [\"I'm flattered, but I'm just a computer program. How can I assist you today?\"]\n",
    "    ],\n",
    "    [\n",
    "        r\"tell me the time|current time\",\n",
    "        [\"The current time is {0}.\".format(datetime.datetime.now().strftime(\"%H:%M:%S\"))]\n",
    "    ],\n",
    "    [\n",
    "        r\"tell me the date|current date\",\n",
    "        [\"The current date is {0}.\".format(datetime.date.today().strftime(\"%Y-%m-%d\"))]\n",
    "    ],\n",
    "    [\n",
    "        r\"(bye|goodbye|quit)\",\n",
    "        [\"Goodbye! Have a great day. If you have more questions, feel free to return.\"]\n",
    "    ],\n",
    "    [\n",
    "        r\"(.*)\",\n",
    "        [\"I'm here to assist you. Please ask me a question or tell me what you'd like to do.\"]\n",
    "    ]\n",
    "]\n",
    "\n",
    "# Additional Conversations\n",
    "additional_conversations = [\n",
    "    [\n",
    "        r\"how's the weather today in (.*)\",\n",
    "        [\"The weather in {0} is currently {1}°C with {2} conditions.\".format(\"city_name_placeholder\", \"temperature_placeholder\", \"weather_condition_placeholder\")]\n",
    "    ],\n",
    "    [\n",
    "        r\"what's your favorite color?\",\n",
    "        [\"I don't have a favorite color since I'm just a text-based program, but I can help you with other questions!\"]\n",
    "    ],\n",
    "    # Add more conversations as needed\n",
    "]\n"
   ]
  },
  {
   "cell_type": "code",
   "execution_count": 2,
   "id": "57c72b5e-ec39-484b-b580-f56298d21348",
   "metadata": {},
   "outputs": [
    {
     "name": "stdout",
     "output_type": "stream",
     "text": [
      "Hello! I'm your multi-functional chatbot.\n",
      "May I know your name? \n"
     ]
    },
    {
     "name": "stdin",
     "output_type": "stream",
     "text": [
      " Raj Vardhan\n"
     ]
    },
    {
     "name": "stdout",
     "output_type": "stream",
     "text": [
      "It's nice to meet you Raj Vardhan\n"
     ]
    },
    {
     "name": "stdin",
     "output_type": "stream",
     "text": [
      "You:  What is your name\n"
     ]
    },
    {
     "name": "stdout",
     "output_type": "stream",
     "text": [
      "Chatbot: I'm a chatbot. You can call me Onyx.\n"
     ]
    },
    {
     "name": "stdin",
     "output_type": "stream",
     "text": [
      "You:  exit\n"
     ]
    },
    {
     "name": "stdout",
     "output_type": "stream",
     "text": [
      "Chatbot: Goodbye! Have a great day.\n"
     ]
    }
   ],
   "source": [
    "def multi_functional_chatbot():\n",
    "    print(\"Hello! I'm your multi-functional chatbot.\")\n",
    "    chat = Chat(conversations, reflections)\n",
    "    ask = print(\"May I know your name? \" )\n",
    "    name = input()\n",
    "    print(\"It's nice to meet you \" + name)\n",
    "    \n",
    "    while True:\n",
    "        user_input = input(\"You: \")\n",
    "        if user_input.lower() in [\"bye\", \"goodbye\", \"quit\", \"exit\"]:\n",
    "            print(\"Chatbot: Goodbye! Have a great day.\")\n",
    "            break\n",
    "        response = chat.respond(user_input)\n",
    "        print(\"Chatbot:\", response)\n",
    "\n",
    "# Start the chatbot\n",
    "multi_functional_chatbot()"
   ]
  }
 ],
 "metadata": {
  "kernelspec": {
   "display_name": "Python 3 (ipykernel)",
   "language": "python",
   "name": "python3"
  },
  "language_info": {
   "codemirror_mode": {
    "name": "ipython",
    "version": 3
   },
   "file_extension": ".py",
   "mimetype": "text/x-python",
   "name": "python",
   "nbconvert_exporter": "python",
   "pygments_lexer": "ipython3",
   "version": "3.11.0"
  }
 },
 "nbformat": 4,
 "nbformat_minor": 5
}
